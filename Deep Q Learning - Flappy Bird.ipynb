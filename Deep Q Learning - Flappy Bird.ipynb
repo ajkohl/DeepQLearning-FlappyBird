{
 "cells": [
  {
   "cell_type": "markdown",
   "metadata": {},
   "source": [
    "<img src=\"https://raw.githubusercontent.com/YData123/sds365-sp22/main/assignments/assn4/images/flappy_bird_demp.gif\" width=\"144\" height=\"256\"/>\n",
    "\n",
    "The implementation is based these references:\n",
    "- [DeepLearningFlappyBird](https://github.com/yenchenlin/DeepLearningFlappyBird)\n",
    "- [Deep Q-Learning for Atari Breakout](https://keras.io/examples/rl/deep_q_network_breakout/)\n",
    "\n"
   ]
  },
  {
   "cell_type": "code",
   "execution_count": 1,
   "metadata": {},
   "outputs": [
    {
     "name": "stdout",
     "output_type": "stream",
     "text": [
      "Requirement already satisfied: pygame in /Users/aj/anaconda3/lib/python3.11/site-packages (2.5.2)\n",
      "Note: you may need to restart the kernel to use updated packages.\n",
      "Requirement already satisfied: opencv-python in /Users/aj/anaconda3/lib/python3.11/site-packages (4.8.1.78)\n",
      "Requirement already satisfied: numpy>=1.21.2 in /Users/aj/anaconda3/lib/python3.11/site-packages (from opencv-python) (1.24.3)\n",
      "Note: you may need to restart the kernel to use updated packages.\n",
      "pygame 2.5.2 (SDL 2.28.3, Python 3.11.5)\n",
      "Hello from the pygame community. https://www.pygame.org/contribute.html\n"
     ]
    },
    {
     "name": "stderr",
     "output_type": "stream",
     "text": [
      "libpng warning: iCCP: known incorrect sRGB profile\n",
      "libpng warning: iCCP: known incorrect sRGB profile\n",
      "libpng warning: iCCP: known incorrect sRGB profile\n",
      "libpng warning: iCCP: known incorrect sRGB profile\n",
      "libpng warning: iCCP: known incorrect sRGB profile\n",
      "libpng warning: iCCP: known incorrect sRGB profile\n",
      "libpng warning: iCCP: known incorrect sRGB profile\n",
      "libpng warning: iCCP: known incorrect sRGB profile\n",
      "libpng warning: iCCP: known incorrect sRGB profile\n",
      "libpng warning: iCCP: known incorrect sRGB profile\n",
      "libpng warning: iCCP: known incorrect sRGB profile\n",
      "libpng warning: iCCP: known incorrect sRGB profile\n",
      "libpng warning: iCCP: known incorrect sRGB profile\n",
      "libpng warning: iCCP: known incorrect sRGB profile\n",
      "libpng warning: iCCP: known incorrect sRGB profile\n"
     ]
    }
   ],
   "source": [
    "%pip install pygame\n",
    "%pip install opencv-python\n",
    "import sys\n",
    "sys.path.append('/utils')\n",
    "import os\n",
    "os.chdir('/utils')\n",
    "import numpy as np\n",
    "import cv2\n",
    "import wrapped_flappy_bird as flappy_bird\n",
    "from collections import deque\n",
    "import random\n",
    "import tensorflow as tf\n",
    "from tensorflow import keras\n",
    "from tensorflow.keras import layers, initializers"
   ]
  },
  {
   "cell_type": "code",
   "execution_count": 2,
   "metadata": {},
   "outputs": [
    {
     "name": "stdout",
     "output_type": "stream",
     "text": [
      "shape of image: (288, 512, 3)\n",
      "reward:  0.1\n",
      "terminal:  False\n"
     ]
    }
   ],
   "source": [
    "num_actions = 2\n",
    "\n",
    "# initiate a game\n",
    "game = flappy_bird.GameState()\n",
    "\n",
    "# get the first state by doing nothing\n",
    "do_nothing = np.zeros(num_actions)\n",
    "do_nothing[0] = 1\n",
    "image, reward, terminal = game.frame_step(do_nothing)\n",
    "\n",
    "print('shape of image:', image.shape)\n",
    "print('reward: ', reward)\n",
    "print('terminal: ', terminal)"
   ]
  },
  {
   "cell_type": "code",
   "execution_count": 3,
   "metadata": {},
   "outputs": [],
   "source": [
    "for i in range(587):\n",
    "    \n",
    "    # choose a random action \n",
    "    action = np.random.choice(num_actions)\n",
    "    \n",
    "    # create the corresponding one-hot vector\n",
    "    action_vec = np.zeros(num_actions)\n",
    "    action_vec[action] = 1\n",
    "\n",
    "    # take the action and observe the reward and the next state\n",
    "    image, reward, terminal = game.frame_step(action_vec)"
   ]
  },
  {
   "cell_type": "code",
   "execution_count": 4,
   "metadata": {},
   "outputs": [
    {
     "data": {
      "image/png": "[encoded data removed]",
      "text/plain": [
       "<Figure size 640x480 with 1 Axes>"
      ]
     },
     "metadata": {},
     "output_type": "display_data"
    }
   ],
   "source": [
    "# show the image\n",
    "import matplotlib.pyplot as plt\n",
    "plt.imshow(image.transpose([1, 0, 2]))\n",
    "plt.show()\n",
    "plt.close()"
   ]
  },
  {
   "cell_type": "markdown",
   "metadata": {},
   "source": [
    "### Preprocessing"
   ]
  },
  {
   "cell_type": "code",
   "execution_count": 5,
   "metadata": {},
   "outputs": [
    {
     "name": "stdout",
     "output_type": "stream",
     "text": [
      "Shape of the transformed image: (288, 512, 3)\n"
     ]
    },
    {
     "data": {
      "image/png": "[encoded data removed]",
      "text/plain": [
       "<Figure size 640x480 with 1 Axes>"
      ]
     },
     "metadata": {},
     "output_type": "display_data"
    }
   ],
   "source": [
    "def resize_gray(frame):\n",
    "    frame = cv2.cvtColor(cv2.resize(frame, (80, 80)), cv2.COLOR_BGR2GRAY)\n",
    "    ret, frame = cv2.threshold(frame, 1, 255, cv2.THRESH_BINARY)\n",
    "    return np.reshape(frame, (80, 80, 1))\n",
    "\n",
    "image_transformed = resize_gray(image)\n",
    "print('Shape of the transformed image:', image.shape)\n",
    "\n",
    "# show the transformed image\n",
    "_ = plt.imshow(image_transformed.transpose((1, 0, 2)), cmap='gray')"
   ]
  },
  {
   "cell_type": "code",
   "execution_count": 6,
   "metadata": {},
   "outputs": [],
   "source": [
    "def preprocess(image_raw, current_state=None):\n",
    "    # resize and convert to grayscale\n",
    "    image = resize_gray(image_raw)\n",
    "    # stack the frames\n",
    "    if current_state is None:\n",
    "        state = np.concatenate((image, image, image, image), axis=2)\n",
    "    else:\n",
    "        state = np.concatenate((image, current_state[:, :, :3]), axis=2)\n",
    "    return state"
   ]
  },
  {
   "cell_type": "markdown",
   "metadata": {},
   "source": [
    "###  Constructing the neural network"
   ]
  },
  {
   "cell_type": "code",
   "execution_count": 7,
   "metadata": {},
   "outputs": [],
   "source": [
    "from tensorflow.keras import initializers\n",
    "def create_q_model():\n",
    "    state = layers.Input(shape=(80, 80, 4,))\n",
    "\n",
    "    layer1 = layers.Conv2D(filters=32, kernel_size=8, strides=4, activation=\"relu\",\n",
    "                           kernel_initializer=initializers.TruncatedNormal(mean=0., stddev=0.01),\n",
    "                           bias_initializer=initializers.Constant(0.01))(state)\n",
    "    layer2 = layers.MaxPool2D(2, strides=2, padding=\"SAME\")(layer1)\n",
    "    layer3 = layers.Conv2D(filters=64, kernel_size=4, strides=2, activation=\"relu\", \n",
    "                           kernel_initializer=initializers.TruncatedNormal(mean=0., stddev=0.01),\n",
    "                           bias_initializer=initializers.Constant(0.01))(layer2)\n",
    "    layer4 = layers.Flatten()(layer3)\n",
    "    q_value = layers.Dense(units=2, activation=\"linear\", \n",
    "                           kernel_initializer=initializers.TruncatedNormal(mean=0., stddev=0.01),\n",
    "                           bias_initializer=initializers.Constant(0.01))(layer4)\n",
    "\n",
    "    return keras.Model(inputs=state, outputs=q_value)"
   ]
  },
  {
   "cell_type": "markdown",
   "metadata": {},
   "source": [
    "Plot the model summary to make sure that the network is the same as expected. "
   ]
  },
  {
   "cell_type": "code",
   "execution_count": 8,
   "metadata": {
    "scrolled": true
   },
   "outputs": [
    {
     "name": "stdout",
     "output_type": "stream",
     "text": [
      "Model: \"model\"\n",
      "_________________________________________________________________\n",
      " Layer (type)                Output Shape              Param #   \n",
      "=================================================================\n",
      " input_1 (InputLayer)        [(None, 80, 80, 4)]       0         \n",
      "                                                                 \n",
      " conv2d (Conv2D)             (None, 19, 19, 32)        8224      \n",
      "                                                                 \n",
      " max_pooling2d (MaxPooling2  (None, 10, 10, 32)        0         \n",
      " D)                                                              \n",
      "                                                                 \n",
      " conv2d_1 (Conv2D)           (None, 4, 4, 64)          32832     \n",
      "                                                                 \n",
      " flatten (Flatten)           (None, 1024)              0         \n",
      "                                                                 \n",
      " dense (Dense)               (None, 2)                 2050      \n",
      "                                                                 \n",
      "=================================================================\n",
      "Total params: 43106 (168.38 KB)\n",
      "Trainable params: 43106 (168.38 KB)\n",
      "Non-trainable params: 0 (0.00 Byte)\n",
      "_________________________________________________________________\n",
      "None\n"
     ]
    }
   ],
   "source": [
    "model = create_q_model()\n",
    "print(model.summary())"
   ]
  },
  {
   "cell_type": "markdown",
   "metadata": {},
   "source": [
    "### Deep Q-learning"
   ]
  },
  {
   "cell_type": "code",
   "execution_count": 9,
   "metadata": {},
   "outputs": [],
   "source": [
    "gamma = 0.99            # decay rate of past observations\n",
    "step_size = 1e-4        # step size"
   ]
  },
  {
   "cell_type": "code",
   "execution_count": 10,
   "metadata": {},
   "outputs": [],
   "source": [
    "observe = 10000            # timesteps to observe before training\n",
    "replay_memory = 10000      # number of previous transitions to remember\n",
    "batch_size = 32            # size of each batch"
   ]
  },
  {
   "cell_type": "code",
   "execution_count": 11,
   "metadata": {},
   "outputs": [],
   "source": [
    "# value of epsilon\n",
    "epsilon = 0.05"
   ]
  },
  {
   "cell_type": "code",
   "execution_count": 12,
   "metadata": {},
   "outputs": [],
   "source": [
    "def dql_flappy_bird(model, optimizer, loss_function):\n",
    "\n",
    "    # initiate a game\n",
    "    game = flappy_bird.GameState()\n",
    "\n",
    "    # store the previous state, action and transitions\n",
    "    history_data = deque()\n",
    "\n",
    "    # get the first observation by doing nothing and preprocess the image\n",
    "    do_nothing = np.zeros(num_actions)\n",
    "    do_nothing[0] = 1\n",
    "    image, reward, terminal = game.frame_step(do_nothing)\n",
    "\n",
    "    # preprocess to get the state\n",
    "    current_state = preprocess(image_raw=image)\n",
    "    \n",
    "    # training\n",
    "    t = 0\n",
    "\n",
    "    while t < 50000:\n",
    "        if epsilon > np.random.rand(1)[0]:\n",
    "            # random action\n",
    "            action = np.random.choice(num_actions)\n",
    "        else:\n",
    "            # compute the Q function\n",
    "            current_state_tensor = tf.convert_to_tensor(current_state)\n",
    "            current_state_tensor = tf.expand_dims(current_state_tensor, 0)\n",
    "            q_value = model(current_state_tensor, training=False)\n",
    "            \n",
    "            # greedy action\n",
    "            # your code here\n",
    "            #-----------------#\n",
    "            action = np.argmax(q_value.numpy()) \n",
    "\n",
    "        # take the action and observe the reward and the next state\n",
    "        action_vec = np.zeros([num_actions])\n",
    "        action_vec[action] = 1\n",
    "        image_raw, reward, terminal = game.frame_step(action_vec)\n",
    "        next_state = preprocess(current_state=current_state, \n",
    "                                image_raw=image_raw)\n",
    "        \n",
    "        # store the observation\n",
    "        history_data.append((current_state, action, reward, next_state, \n",
    "                            terminal))\n",
    "        if len(history_data) > replay_memory:\n",
    "            history_data.popleft()  # discard old data\n",
    "\n",
    "        # train if done observing\n",
    "        if t > observe:\n",
    "\n",
    "            # sample a batch\n",
    "            batch = random.sample(history_data, batch_size)\n",
    "            state_sample = np.array([d[0] for d in batch])\n",
    "            action_sample = np.array([d[1] for d in batch])\n",
    "            reward_sample = np.array([d[2] for d in batch])\n",
    "            state_next_sample = np.array([d[3] for d in batch])\n",
    "            terminal_sample = np.array([d[4] for d in batch])\n",
    "\n",
    "            # compute the updated Q-values for the samples\n",
    "            # your code here\n",
    "            #-----------------#\n",
    "            # Inside the training loop, after sampling a batch\n",
    "            current_q_values = model(tf.convert_to_tensor(state_sample), training=True)\n",
    "            current_q_values_actions = tf.reduce_sum(\n",
    "            current_q_values * tf.one_hot(action_sample, depth=num_actions), axis=1)\n",
    "\n",
    "            q_values_next = model(tf.convert_to_tensor(state_next_sample), training=False)\n",
    "            max_q_values_next = tf.reduce_max(q_values_next, axis=1)\n",
    "\n",
    "            # Compute the updated Q-values\n",
    "            # Your existing calculation of updated_q_value is correct\n",
    "            updated_q_value = reward_sample + gamma * (1 - terminal_sample) * max_q_values_next\n",
    "\n",
    "\n",
    "            # train the model on the states and updated Q-values\n",
    "            with tf.GradientTape() as tape:\n",
    "                # compute the current Q-values for the samples\n",
    "                # your code here\n",
    "                #-----------------#\n",
    "                current_q_values = model(tf.convert_to_tensor(state_sample), training=True)\n",
    "                current_q_values_actions = tf.reduce_sum(current_q_values * tf.one_hot(action_sample, depth=num_actions), axis=1)\n",
    "\n",
    "                # compute the loss\n",
    "                loss = loss_function(updated_q_value, current_q_values_actions)\n",
    "\n",
    "            # backpropagation\n",
    "            grads = tape.gradient(loss, model.trainable_variables)\n",
    "            optimizer.apply_gradients(zip(grads, model.trainable_variables))\n",
    "        else:\n",
    "            loss = 0\n",
    "\n",
    "        # update current state and counter\n",
    "        current_state = next_state\n",
    "        t += 1\n",
    "\n",
    "        # print info every 500 steps\n",
    "        if t % 500 == 0:\n",
    "            print(f\"STEP {t} | PHASE {'observe' if t<=observe else 'train'}\", \n",
    "                  f\"| ACTION {action} | REWARD {reward} | LOSS {loss}\")"
   ]
  },
  {
   "cell_type": "code",
   "execution_count": 13,
   "metadata": {},
   "outputs": [],
   "source": [
    "def playgame(start_from_ckpt=False, ckpt_path=None):\n",
    "\n",
    "    np.random.seed(4)\n",
    "\n",
    "    if start_from_ckpt:\n",
    "        # if you want to start from a checkpoint\n",
    "        model = keras.models.load_model('ckpt_path')\n",
    "    else:\n",
    "        model = create_q_model()\n",
    "\n",
    "    # specify the optimizer and loss function\n",
    "    optimizer = keras.optimizers.legacy.Adam(learning_rate=step_size, clipnorm=1.0)\n",
    "    loss_function = keras.losses.MeanSquaredError()\n",
    "\n",
    "    # play the game\n",
    "    dql_flappy_bird(model=model, optimizer=optimizer, loss_function=loss_function)"
   ]
  },
  {
   "cell_type": "code",
   "execution_count": 14,
   "metadata": {
    "scrolled": true
   },
   "outputs": [
    {
     "name": "stdout",
     "output_type": "stream",
     "text": [
      "STEP 500 | PHASE observe | ACTION 1 | REWARD 0.1 | LOSS 0\n",
      "STEP 1000 | PHASE observe | ACTION 1 | REWARD 0.1 | LOSS 0\n",
      "STEP 1500 | PHASE observe | ACTION 1 | REWARD 0.1 | LOSS 0\n",
      "STEP 2000 | PHASE observe | ACTION 1 | REWARD 0.1 | LOSS 0\n",
      "STEP 2500 | PHASE observe | ACTION 1 | REWARD 0.1 | LOSS 0\n",
      "STEP 3000 | PHASE observe | ACTION 1 | REWARD 0.1 | LOSS 0\n",
      "STEP 3500 | PHASE observe | ACTION 1 | REWARD 0.1 | LOSS 0\n",
      "STEP 4000 | PHASE observe | ACTION 1 | REWARD 0.1 | LOSS 0\n",
      "STEP 4500 | PHASE observe | ACTION 1 | REWARD 0.1 | LOSS 0\n",
      "STEP 5000 | PHASE observe | ACTION 1 | REWARD 0.1 | LOSS 0\n",
      "STEP 5500 | PHASE observe | ACTION 1 | REWARD 0.1 | LOSS 0\n",
      "STEP 6000 | PHASE observe | ACTION 1 | REWARD 0.1 | LOSS 0\n",
      "STEP 6500 | PHASE observe | ACTION 1 | REWARD 0.1 | LOSS 0\n",
      "STEP 7000 | PHASE observe | ACTION 0 | REWARD 0.1 | LOSS 0\n",
      "STEP 7500 | PHASE observe | ACTION 1 | REWARD 0.1 | LOSS 0\n",
      "STEP 8000 | PHASE observe | ACTION 1 | REWARD 0.1 | LOSS 0\n",
      "STEP 8500 | PHASE observe | ACTION 1 | REWARD 0.1 | LOSS 0\n",
      "STEP 9000 | PHASE observe | ACTION 1 | REWARD 0.1 | LOSS 0\n",
      "STEP 9500 | PHASE observe | ACTION 1 | REWARD 0.1 | LOSS 0\n",
      "STEP 10000 | PHASE observe | ACTION 1 | REWARD 0.1 | LOSS 0\n",
      "STEP 10500 | PHASE train | ACTION 1 | REWARD 0.1 | LOSS 1259.7823486328125\n",
      "STEP 11000 | PHASE train | ACTION 1 | REWARD 0.1 | LOSS 0.8198993802070618\n",
      "STEP 11500 | PHASE train | ACTION 1 | REWARD 0.1 | LOSS 0.012598698027431965\n",
      "STEP 12000 | PHASE train | ACTION 0 | REWARD 0.1 | LOSS 0.020820414647459984\n",
      "STEP 12500 | PHASE train | ACTION 0 | REWARD 0.1 | LOSS 0.012317176908254623\n",
      "STEP 13000 | PHASE train | ACTION 0 | REWARD 0.1 | LOSS 0.00954309944063425\n",
      "STEP 13500 | PHASE train | ACTION 1 | REWARD 0.1 | LOSS 0.021767841652035713\n",
      "STEP 14000 | PHASE train | ACTION 1 | REWARD 0.1 | LOSS 0.0012759806122630835\n",
      "STEP 14500 | PHASE train | ACTION 1 | REWARD 0.1 | LOSS 0.013049760833382607\n",
      "STEP 15000 | PHASE train | ACTION 0 | REWARD 0.1 | LOSS 0.0030686864629387856\n",
      "STEP 15500 | PHASE train | ACTION 0 | REWARD 0.1 | LOSS 0.0010717310942709446\n",
      "STEP 16000 | PHASE train | ACTION 0 | REWARD 0.1 | LOSS 0.0031231814064085484\n",
      "STEP 16500 | PHASE train | ACTION 0 | REWARD 0.1 | LOSS 0.002450647298246622\n",
      "STEP 17000 | PHASE train | ACTION 0 | REWARD 0.1 | LOSS 0.0019522160291671753\n",
      "STEP 17500 | PHASE train | ACTION 1 | REWARD 0.1 | LOSS 0.0006912692915648222\n",
      "STEP 18000 | PHASE train | ACTION 0 | REWARD 0.1 | LOSS 0.0026884106919169426\n",
      "STEP 18500 | PHASE train | ACTION 1 | REWARD 0.1 | LOSS 0.0011366951512172818\n",
      "STEP 19000 | PHASE train | ACTION 0 | REWARD 0.1 | LOSS 0.002228756435215473\n",
      "STEP 19500 | PHASE train | ACTION 0 | REWARD 0.1 | LOSS 0.002025079447776079\n",
      "STEP 20000 | PHASE train | ACTION 1 | REWARD 0.1 | LOSS 0.004172800574451685\n",
      "STEP 20500 | PHASE train | ACTION 1 | REWARD 0.1 | LOSS 0.06418251991271973\n",
      "STEP 21000 | PHASE train | ACTION 1 | REWARD 0.1 | LOSS 0.006711536552757025\n",
      "STEP 21500 | PHASE train | ACTION 0 | REWARD -1 | LOSS 0.0032916003838181496\n",
      "STEP 22000 | PHASE train | ACTION 1 | REWARD 0.1 | LOSS 0.002019367180764675\n",
      "STEP 22500 | PHASE train | ACTION 0 | REWARD 0.1 | LOSS 0.003587262472137809\n",
      "STEP 23000 | PHASE train | ACTION 1 | REWARD 0.1 | LOSS 0.0078970305621624\n",
      "STEP 23500 | PHASE train | ACTION 1 | REWARD 0.1 | LOSS 0.002588322851806879\n",
      "STEP 24000 | PHASE train | ACTION 0 | REWARD 0.1 | LOSS 0.021686948835849762\n",
      "STEP 24500 | PHASE train | ACTION 0 | REWARD 0.1 | LOSS 0.01002617459744215\n",
      "STEP 25000 | PHASE train | ACTION 0 | REWARD 0.1 | LOSS 0.02280711941421032\n",
      "STEP 25500 | PHASE train | ACTION 0 | REWARD 0.1 | LOSS 0.019761135801672935\n",
      "STEP 26000 | PHASE train | ACTION 0 | REWARD 0.1 | LOSS 0.05925070866942406\n",
      "STEP 26500 | PHASE train | ACTION 0 | REWARD 0.1 | LOSS 0.013805294409394264\n",
      "STEP 27000 | PHASE train | ACTION 0 | REWARD 0.1 | LOSS 0.021395761519670486\n",
      "STEP 27500 | PHASE train | ACTION 0 | REWARD 0.1 | LOSS 0.015209188684821129\n",
      "STEP 28000 | PHASE train | ACTION 0 | REWARD 0.1 | LOSS 0.06869339942932129\n",
      "STEP 28500 | PHASE train | ACTION 0 | REWARD 0.1 | LOSS 0.04143666848540306\n",
      "STEP 29000 | PHASE train | ACTION 0 | REWARD 0.1 | LOSS 0.03683272376656532\n",
      "STEP 29500 | PHASE train | ACTION 0 | REWARD 0.1 | LOSS 0.10858689248561859\n",
      "STEP 30000 | PHASE train | ACTION 0 | REWARD 0.1 | LOSS 0.08541391044855118\n",
      "STEP 30500 | PHASE train | ACTION 0 | REWARD 0.1 | LOSS 0.054797522723674774\n",
      "STEP 31000 | PHASE train | ACTION 0 | REWARD 0.1 | LOSS 0.03745393082499504\n",
      "STEP 31500 | PHASE train | ACTION 0 | REWARD 0.1 | LOSS 0.0877324640750885\n",
      "STEP 32000 | PHASE train | ACTION 0 | REWARD 0.1 | LOSS 0.2686648964881897\n",
      "STEP 32500 | PHASE train | ACTION 0 | REWARD 0.1 | LOSS 0.17127788066864014\n",
      "STEP 33000 | PHASE train | ACTION 0 | REWARD 0.1 | LOSS 0.1341182440519333\n",
      "STEP 33500 | PHASE train | ACTION 0 | REWARD 0.1 | LOSS 0.046778544783592224\n",
      "STEP 34000 | PHASE train | ACTION 0 | REWARD 0.1 | LOSS 2.598423480987549\n",
      "STEP 34500 | PHASE train | ACTION 0 | REWARD 0.1 | LOSS 0.13086488842964172\n",
      "STEP 35000 | PHASE train | ACTION 0 | REWARD 0.1 | LOSS 0.14951573312282562\n",
      "STEP 35500 | PHASE train | ACTION 1 | REWARD 0.1 | LOSS 0.21908479928970337\n",
      "STEP 36000 | PHASE train | ACTION 0 | REWARD 0.1 | LOSS 0.24633219838142395\n",
      "STEP 36500 | PHASE train | ACTION 0 | REWARD 0.1 | LOSS 0.28735214471817017\n",
      "STEP 37000 | PHASE train | ACTION 1 | REWARD 0.1 | LOSS 0.19632703065872192\n",
      "STEP 37500 | PHASE train | ACTION 0 | REWARD 0.1 | LOSS 0.2959986925125122\n",
      "STEP 38000 | PHASE train | ACTION 0 | REWARD 0.1 | LOSS 0.3312186300754547\n",
      "STEP 38500 | PHASE train | ACTION 1 | REWARD 0.1 | LOSS 0.1402239352464676\n",
      "STEP 39000 | PHASE train | ACTION 1 | REWARD 0.1 | LOSS 0.09738542139530182\n",
      "STEP 39500 | PHASE train | ACTION 0 | REWARD 0.1 | LOSS 0.29620030522346497\n",
      "STEP 40000 | PHASE train | ACTION 1 | REWARD 0.1 | LOSS 0.31211239099502563\n",
      "STEP 40500 | PHASE train | ACTION 0 | REWARD 0.1 | LOSS 0.24767619371414185\n",
      "STEP 41000 | PHASE train | ACTION 0 | REWARD 0.1 | LOSS 0.25816553831100464\n",
      "STEP 41500 | PHASE train | ACTION 0 | REWARD 0.1 | LOSS 1.5990506410598755\n",
      "STEP 42000 | PHASE train | ACTION 0 | REWARD 0.1 | LOSS 0.22706133127212524\n",
      "STEP 42500 | PHASE train | ACTION 1 | REWARD 0.1 | LOSS 0.21917903423309326\n",
      "STEP 43000 | PHASE train | ACTION 0 | REWARD 0.1 | LOSS 0.20708191394805908\n",
      "STEP 43500 | PHASE train | ACTION 0 | REWARD 0.1 | LOSS 0.7884665727615356\n",
      "STEP 44000 | PHASE train | ACTION 0 | REWARD 0.1 | LOSS 0.25545406341552734\n",
      "STEP 44500 | PHASE train | ACTION 0 | REWARD 0.1 | LOSS 0.15745963156223297\n",
      "STEP 45000 | PHASE train | ACTION 0 | REWARD 0.1 | LOSS 0.21844205260276794\n",
      "STEP 45500 | PHASE train | ACTION 0 | REWARD 0.1 | LOSS 0.3183385729789734\n",
      "STEP 46000 | PHASE train | ACTION 0 | REWARD 0.1 | LOSS 0.3085075318813324\n",
      "STEP 46500 | PHASE train | ACTION 0 | REWARD 0.1 | LOSS 0.17203405499458313\n",
      "STEP 47000 | PHASE train | ACTION 0 | REWARD 0.1 | LOSS 0.2714937925338745\n",
      "STEP 47500 | PHASE train | ACTION 0 | REWARD 0.1 | LOSS 3.7949624061584473\n",
      "STEP 48000 | PHASE train | ACTION 0 | REWARD 0.1 | LOSS 0.45709672570228577\n",
      "STEP 48500 | PHASE train | ACTION 0 | REWARD -1 | LOSS 0.11490093171596527\n",
      "STEP 49000 | PHASE train | ACTION 0 | REWARD 0.1 | LOSS 0.19238924980163574\n",
      "STEP 49500 | PHASE train | ACTION 1 | REWARD 0.1 | LOSS 0.2178839147090912\n"
     ]
    },
    {
     "ename": "KeyboardInterrupt",
     "evalue": "",
     "output_type": "error",
     "traceback": [
      "\u001b[0;31m---------------------------------------------------------------------------\u001b[0m",
      "\u001b[0;31mKeyboardInterrupt\u001b[0m                         Traceback (most recent call last)",
      "\u001b[0;32m/var/folders/6v/hyhcb5812t3db6vvj6md0fxh0000gn/T/ipykernel_9764/981574388.py\u001b[0m in \u001b[0;36m?\u001b[0;34m()\u001b[0m\n\u001b[0;32m----> 1\u001b[0;31m \u001b[0mplaygame\u001b[0m\u001b[0;34m(\u001b[0m\u001b[0;34m)\u001b[0m\u001b[0;34m\u001b[0m\u001b[0;34m\u001b[0m\u001b[0m\n\u001b[0m",
      "\u001b[0;32m/var/folders/6v/hyhcb5812t3db6vvj6md0fxh0000gn/T/ipykernel_9764/811619736.py\u001b[0m in \u001b[0;36m?\u001b[0;34m(start_from_ckpt, ckpt_path)\u001b[0m\n\u001b[1;32m     13\u001b[0m     \u001b[0moptimizer\u001b[0m \u001b[0;34m=\u001b[0m \u001b[0mkeras\u001b[0m\u001b[0;34m.\u001b[0m\u001b[0moptimizers\u001b[0m\u001b[0;34m.\u001b[0m\u001b[0mlegacy\u001b[0m\u001b[0;34m.\u001b[0m\u001b[0mAdam\u001b[0m\u001b[0;34m(\u001b[0m\u001b[0mlearning_rate\u001b[0m\u001b[0;34m=\u001b[0m\u001b[0mstep_size\u001b[0m\u001b[0;34m,\u001b[0m \u001b[0mclipnorm\u001b[0m\u001b[0;34m=\u001b[0m\u001b[0;36m1.0\u001b[0m\u001b[0;34m)\u001b[0m\u001b[0;34m\u001b[0m\u001b[0;34m\u001b[0m\u001b[0m\n\u001b[1;32m     14\u001b[0m     \u001b[0mloss_function\u001b[0m \u001b[0;34m=\u001b[0m \u001b[0mkeras\u001b[0m\u001b[0;34m.\u001b[0m\u001b[0mlosses\u001b[0m\u001b[0;34m.\u001b[0m\u001b[0mMeanSquaredError\u001b[0m\u001b[0;34m(\u001b[0m\u001b[0;34m)\u001b[0m\u001b[0;34m\u001b[0m\u001b[0;34m\u001b[0m\u001b[0m\n\u001b[1;32m     15\u001b[0m \u001b[0;34m\u001b[0m\u001b[0m\n\u001b[1;32m     16\u001b[0m     \u001b[0;31m# play the game\u001b[0m\u001b[0;34m\u001b[0m\u001b[0;34m\u001b[0m\u001b[0m\n\u001b[0;32m---> 17\u001b[0;31m     \u001b[0mdql_flappy_bird\u001b[0m\u001b[0;34m(\u001b[0m\u001b[0mmodel\u001b[0m\u001b[0;34m=\u001b[0m\u001b[0mmodel\u001b[0m\u001b[0;34m,\u001b[0m \u001b[0moptimizer\u001b[0m\u001b[0;34m=\u001b[0m\u001b[0moptimizer\u001b[0m\u001b[0;34m,\u001b[0m \u001b[0mloss_function\u001b[0m\u001b[0;34m=\u001b[0m\u001b[0mloss_function\u001b[0m\u001b[0;34m)\u001b[0m\u001b[0;34m\u001b[0m\u001b[0;34m\u001b[0m\u001b[0m\n\u001b[0m",
      "\u001b[0;32m/var/folders/6v/hyhcb5812t3db6vvj6md0fxh0000gn/T/ipykernel_9764/4292783836.py\u001b[0m in \u001b[0;36m?\u001b[0;34m(model, optimizer, loss_function)\u001b[0m\n\u001b[1;32m     83\u001b[0m                 \u001b[0;31m# compute the loss\u001b[0m\u001b[0;34m\u001b[0m\u001b[0;34m\u001b[0m\u001b[0m\n\u001b[1;32m     84\u001b[0m                 \u001b[0mloss\u001b[0m \u001b[0;34m=\u001b[0m \u001b[0mloss_function\u001b[0m\u001b[0;34m(\u001b[0m\u001b[0mupdated_q_value\u001b[0m\u001b[0;34m,\u001b[0m \u001b[0mcurrent_q_values_actions\u001b[0m\u001b[0;34m)\u001b[0m\u001b[0;34m\u001b[0m\u001b[0;34m\u001b[0m\u001b[0m\n\u001b[1;32m     85\u001b[0m \u001b[0;34m\u001b[0m\u001b[0m\n\u001b[1;32m     86\u001b[0m             \u001b[0;31m# backpropagation\u001b[0m\u001b[0;34m\u001b[0m\u001b[0;34m\u001b[0m\u001b[0m\n\u001b[0;32m---> 87\u001b[0;31m             \u001b[0mgrads\u001b[0m \u001b[0;34m=\u001b[0m \u001b[0mtape\u001b[0m\u001b[0;34m.\u001b[0m\u001b[0mgradient\u001b[0m\u001b[0;34m(\u001b[0m\u001b[0mloss\u001b[0m\u001b[0;34m,\u001b[0m \u001b[0mmodel\u001b[0m\u001b[0;34m.\u001b[0m\u001b[0mtrainable_variables\u001b[0m\u001b[0;34m)\u001b[0m\u001b[0;34m\u001b[0m\u001b[0;34m\u001b[0m\u001b[0m\n\u001b[0m\u001b[1;32m     88\u001b[0m             \u001b[0moptimizer\u001b[0m\u001b[0;34m.\u001b[0m\u001b[0mapply_gradients\u001b[0m\u001b[0;34m(\u001b[0m\u001b[0mzip\u001b[0m\u001b[0;34m(\u001b[0m\u001b[0mgrads\u001b[0m\u001b[0;34m,\u001b[0m \u001b[0mmodel\u001b[0m\u001b[0;34m.\u001b[0m\u001b[0mtrainable_variables\u001b[0m\u001b[0;34m)\u001b[0m\u001b[0;34m)\u001b[0m\u001b[0;34m\u001b[0m\u001b[0;34m\u001b[0m\u001b[0m\n\u001b[1;32m     89\u001b[0m         \u001b[0;32melse\u001b[0m\u001b[0;34m:\u001b[0m\u001b[0;34m\u001b[0m\u001b[0;34m\u001b[0m\u001b[0m\n\u001b[1;32m     90\u001b[0m             \u001b[0mloss\u001b[0m \u001b[0;34m=\u001b[0m \u001b[0;36m0\u001b[0m\u001b[0;34m\u001b[0m\u001b[0;34m\u001b[0m\u001b[0m\n",
      "\u001b[0;32m~/anaconda3/lib/python3.11/site-packages/tensorflow/python/eager/backprop.py\u001b[0m in \u001b[0;36m?\u001b[0;34m(self, target, sources, output_gradients, unconnected_gradients)\u001b[0m\n\u001b[1;32m   1062\u001b[0m               output_gradients))\n\u001b[1;32m   1063\u001b[0m       output_gradients = [None if x is None else ops.convert_to_tensor(x)\n\u001b[1;32m   1064\u001b[0m                           for x in output_gradients]\n\u001b[1;32m   1065\u001b[0m \u001b[0;34m\u001b[0m\u001b[0m\n\u001b[0;32m-> 1066\u001b[0;31m     flat_grad = imperative_grad.imperative_grad(\n\u001b[0m\u001b[1;32m   1067\u001b[0m         \u001b[0mself\u001b[0m\u001b[0;34m.\u001b[0m\u001b[0m_tape\u001b[0m\u001b[0;34m,\u001b[0m\u001b[0;34m\u001b[0m\u001b[0;34m\u001b[0m\u001b[0m\n\u001b[1;32m   1068\u001b[0m         \u001b[0mflat_targets\u001b[0m\u001b[0;34m,\u001b[0m\u001b[0;34m\u001b[0m\u001b[0;34m\u001b[0m\u001b[0m\n\u001b[1;32m   1069\u001b[0m         \u001b[0mflat_sources\u001b[0m\u001b[0;34m,\u001b[0m\u001b[0;34m\u001b[0m\u001b[0;34m\u001b[0m\u001b[0m\n",
      "\u001b[0;32m~/anaconda3/lib/python3.11/site-packages/tensorflow/python/eager/imperative_grad.py\u001b[0m in \u001b[0;36m?\u001b[0;34m(tape, target, sources, output_gradients, sources_raw, unconnected_gradients)\u001b[0m\n\u001b[1;32m     63\u001b[0m   \u001b[0;32mexcept\u001b[0m \u001b[0mValueError\u001b[0m\u001b[0;34m:\u001b[0m\u001b[0;34m\u001b[0m\u001b[0;34m\u001b[0m\u001b[0m\n\u001b[1;32m     64\u001b[0m     raise ValueError(\n\u001b[1;32m     65\u001b[0m         \"Unknown value for unconnected_gradients: %r\" % unconnected_gradients)\n\u001b[1;32m     66\u001b[0m \u001b[0;34m\u001b[0m\u001b[0m\n\u001b[0;32m---> 67\u001b[0;31m   return pywrap_tfe.TFE_Py_TapeGradient(\n\u001b[0m\u001b[1;32m     68\u001b[0m       \u001b[0mtape\u001b[0m\u001b[0;34m.\u001b[0m\u001b[0m_tape\u001b[0m\u001b[0;34m,\u001b[0m  \u001b[0;31m# pylint: disable=protected-access\u001b[0m\u001b[0;34m\u001b[0m\u001b[0;34m\u001b[0m\u001b[0m\n\u001b[1;32m     69\u001b[0m       \u001b[0mtarget\u001b[0m\u001b[0;34m,\u001b[0m\u001b[0;34m\u001b[0m\u001b[0;34m\u001b[0m\u001b[0m\n\u001b[1;32m     70\u001b[0m       \u001b[0msources\u001b[0m\u001b[0;34m,\u001b[0m\u001b[0;34m\u001b[0m\u001b[0;34m\u001b[0m\u001b[0m\n",
      "\u001b[0;32m~/anaconda3/lib/python3.11/site-packages/tensorflow/python/eager/backprop.py\u001b[0m in \u001b[0;36m?\u001b[0;34m(op_name, attr_tuple, num_inputs, inputs, outputs, out_grads, skip_input_indices, forward_pass_name_scope)\u001b[0m\n\u001b[1;32m    144\u001b[0m     \u001b[0mgradient_name_scope\u001b[0m \u001b[0;34m=\u001b[0m \u001b[0;34m\"gradient_tape/\"\u001b[0m\u001b[0;34m\u001b[0m\u001b[0;34m\u001b[0m\u001b[0m\n\u001b[1;32m    145\u001b[0m     \u001b[0;32mif\u001b[0m \u001b[0mforward_pass_name_scope\u001b[0m\u001b[0;34m:\u001b[0m\u001b[0;34m\u001b[0m\u001b[0;34m\u001b[0m\u001b[0m\n\u001b[1;32m    146\u001b[0m       \u001b[0mgradient_name_scope\u001b[0m \u001b[0;34m+=\u001b[0m \u001b[0mforward_pass_name_scope\u001b[0m \u001b[0;34m+\u001b[0m \u001b[0;34m\"/\"\u001b[0m\u001b[0;34m\u001b[0m\u001b[0;34m\u001b[0m\u001b[0m\n\u001b[1;32m    147\u001b[0m     \u001b[0;32mwith\u001b[0m \u001b[0mops\u001b[0m\u001b[0;34m.\u001b[0m\u001b[0mname_scope\u001b[0m\u001b[0;34m(\u001b[0m\u001b[0mgradient_name_scope\u001b[0m\u001b[0;34m)\u001b[0m\u001b[0;34m:\u001b[0m\u001b[0;34m\u001b[0m\u001b[0;34m\u001b[0m\u001b[0m\n\u001b[0;32m--> 148\u001b[0;31m       \u001b[0;32mreturn\u001b[0m \u001b[0mgrad_fn\u001b[0m\u001b[0;34m(\u001b[0m\u001b[0mmock_op\u001b[0m\u001b[0;34m,\u001b[0m \u001b[0;34m*\u001b[0m\u001b[0mout_grads\u001b[0m\u001b[0;34m)\u001b[0m\u001b[0;34m\u001b[0m\u001b[0;34m\u001b[0m\u001b[0m\n\u001b[0m\u001b[1;32m    149\u001b[0m   \u001b[0;32melse\u001b[0m\u001b[0;34m:\u001b[0m\u001b[0;34m\u001b[0m\u001b[0;34m\u001b[0m\u001b[0m\n\u001b[1;32m    150\u001b[0m     \u001b[0;32mreturn\u001b[0m \u001b[0mgrad_fn\u001b[0m\u001b[0;34m(\u001b[0m\u001b[0mmock_op\u001b[0m\u001b[0;34m,\u001b[0m \u001b[0;34m*\u001b[0m\u001b[0mout_grads\u001b[0m\u001b[0;34m)\u001b[0m\u001b[0;34m\u001b[0m\u001b[0;34m\u001b[0m\u001b[0m\n",
      "\u001b[0;32m~/anaconda3/lib/python3.11/site-packages/tensorflow/python/ops/nn_grad.py\u001b[0m in \u001b[0;36m?\u001b[0;34m(op, grad)\u001b[0m\n\u001b[1;32m    590\u001b[0m           \u001b[0mpadding\u001b[0m\u001b[0;34m=\u001b[0m\u001b[0mpadding\u001b[0m\u001b[0;34m,\u001b[0m\u001b[0;34m\u001b[0m\u001b[0;34m\u001b[0m\u001b[0m\n\u001b[1;32m    591\u001b[0m           \u001b[0mexplicit_paddings\u001b[0m\u001b[0;34m=\u001b[0m\u001b[0mexplicit_paddings\u001b[0m\u001b[0;34m,\u001b[0m\u001b[0;34m\u001b[0m\u001b[0;34m\u001b[0m\u001b[0m\n\u001b[1;32m    592\u001b[0m           \u001b[0muse_cudnn_on_gpu\u001b[0m\u001b[0;34m=\u001b[0m\u001b[0muse_cudnn_on_gpu\u001b[0m\u001b[0;34m,\u001b[0m\u001b[0;34m\u001b[0m\u001b[0;34m\u001b[0m\u001b[0m\n\u001b[1;32m    593\u001b[0m           data_format=data_format),\n\u001b[0;32m--> 594\u001b[0;31m       gen_nn_ops.conv2d_backprop_filter(\n\u001b[0m\u001b[1;32m    595\u001b[0m           \u001b[0mop\u001b[0m\u001b[0;34m.\u001b[0m\u001b[0minputs\u001b[0m\u001b[0;34m[\u001b[0m\u001b[0;36m0\u001b[0m\u001b[0;34m]\u001b[0m\u001b[0;34m,\u001b[0m\u001b[0;34m\u001b[0m\u001b[0;34m\u001b[0m\u001b[0m\n\u001b[1;32m    596\u001b[0m           \u001b[0mshape_1\u001b[0m\u001b[0;34m,\u001b[0m\u001b[0;34m\u001b[0m\u001b[0;34m\u001b[0m\u001b[0m\n\u001b[1;32m    597\u001b[0m           \u001b[0mgrad\u001b[0m\u001b[0;34m,\u001b[0m\u001b[0;34m\u001b[0m\u001b[0;34m\u001b[0m\u001b[0m\n",
      "\u001b[0;32m~/anaconda3/lib/python3.11/site-packages/tensorflow/python/ops/gen_nn_ops.py\u001b[0m in \u001b[0;36m?\u001b[0;34m(input, filter_sizes, out_backprop, strides, padding, use_cudnn_on_gpu, explicit_paddings, data_format, dilations, name)\u001b[0m\n\u001b[1;32m   1495\u001b[0m         data_format, \"dilations\", dilations)\n\u001b[1;32m   1496\u001b[0m       \u001b[0;32mreturn\u001b[0m \u001b[0m_result\u001b[0m\u001b[0;34m\u001b[0m\u001b[0;34m\u001b[0m\u001b[0m\n\u001b[1;32m   1497\u001b[0m     \u001b[0;32mexcept\u001b[0m \u001b[0m_core\u001b[0m\u001b[0;34m.\u001b[0m\u001b[0m_NotOkStatusException\u001b[0m \u001b[0;32mas\u001b[0m \u001b[0me\u001b[0m\u001b[0;34m:\u001b[0m\u001b[0;34m\u001b[0m\u001b[0;34m\u001b[0m\u001b[0m\n\u001b[1;32m   1498\u001b[0m       \u001b[0m_ops\u001b[0m\u001b[0;34m.\u001b[0m\u001b[0mraise_from_not_ok_status\u001b[0m\u001b[0;34m(\u001b[0m\u001b[0me\u001b[0m\u001b[0;34m,\u001b[0m \u001b[0mname\u001b[0m\u001b[0;34m)\u001b[0m\u001b[0;34m\u001b[0m\u001b[0;34m\u001b[0m\u001b[0m\n\u001b[0;32m-> 1499\u001b[0;31m     \u001b[0;32mexcept\u001b[0m \u001b[0m_core\u001b[0m\u001b[0;34m.\u001b[0m\u001b[0m_FallbackException\u001b[0m\u001b[0;34m:\u001b[0m\u001b[0;34m\u001b[0m\u001b[0;34m\u001b[0m\u001b[0m\n\u001b[0m\u001b[1;32m   1500\u001b[0m       \u001b[0;32mpass\u001b[0m\u001b[0;34m\u001b[0m\u001b[0;34m\u001b[0m\u001b[0m\n\u001b[1;32m   1501\u001b[0m     \u001b[0;32mtry\u001b[0m\u001b[0;34m:\u001b[0m\u001b[0;34m\u001b[0m\u001b[0;34m\u001b[0m\u001b[0m\n\u001b[1;32m   1502\u001b[0m       return conv2d_backprop_filter_eager_fallback(\n",
      "\u001b[0;31mKeyboardInterrupt\u001b[0m: "
     ]
    }
   ],
   "source": [
    "playgame()"
   ]
  },
  {
   "cell_type": "markdown",
   "metadata": {},
   "source": [
    "### The following was a test to see performance with only 100 steps before the training phase"
   ]
  },
  {
   "cell_type": "code",
   "execution_count": 15,
   "metadata": {
    "scrolled": true
   },
   "outputs": [
    {
     "name": "stdout",
     "output_type": "stream",
     "text": [
      "STEP 500 | PHASE train | ACTION 0 | REWARD 0.1 | LOSS 2.422938108444214\n",
      "STEP 1000 | PHASE train | ACTION 0 | REWARD 0.1 | LOSS 0.12893174588680267\n",
      "STEP 1500 | PHASE train | ACTION 0 | REWARD 0.1 | LOSS 0.025578347966074944\n",
      "STEP 2000 | PHASE train | ACTION 0 | REWARD 0.1 | LOSS 0.020953886210918427\n",
      "STEP 2500 | PHASE train | ACTION 1 | REWARD 0.1 | LOSS 0.07277293503284454\n",
      "STEP 3000 | PHASE train | ACTION 0 | REWARD 0.1 | LOSS 0.015047937631607056\n",
      "STEP 3500 | PHASE train | ACTION 0 | REWARD 0.1 | LOSS 0.009646087884902954\n",
      "STEP 4000 | PHASE train | ACTION 0 | REWARD 0.1 | LOSS 0.025542743504047394\n",
      "STEP 4500 | PHASE train | ACTION 0 | REWARD 0.1 | LOSS 0.0069857025519013405\n",
      "STEP 5000 | PHASE train | ACTION 0 | REWARD 0.1 | LOSS 0.006203163880854845\n",
      "STEP 5500 | PHASE train | ACTION 1 | REWARD 0.1 | LOSS 0.0075559127144515514\n",
      "STEP 6000 | PHASE train | ACTION 0 | REWARD 0.1 | LOSS 0.016295243054628372\n",
      "STEP 6500 | PHASE train | ACTION 1 | REWARD 0.1 | LOSS 0.008017242886126041\n",
      "STEP 7000 | PHASE train | ACTION 0 | REWARD 0.1 | LOSS 0.006555842235684395\n",
      "STEP 7500 | PHASE train | ACTION 0 | REWARD 0.1 | LOSS 0.003314489033073187\n",
      "STEP 8000 | PHASE train | ACTION 1 | REWARD 0.1 | LOSS 0.01739364117383957\n",
      "STEP 8500 | PHASE train | ACTION 0 | REWARD 0.1 | LOSS 0.021394457668066025\n",
      "STEP 9000 | PHASE train | ACTION 0 | REWARD 0.1 | LOSS 0.038576848804950714\n",
      "STEP 9500 | PHASE train | ACTION 1 | REWARD 0.1 | LOSS 0.034960225224494934\n",
      "STEP 10000 | PHASE train | ACTION 1 | REWARD 0.1 | LOSS 0.019603922963142395\n",
      "STEP 10500 | PHASE train | ACTION 0 | REWARD 0.1 | LOSS 0.02009761333465576\n",
      "STEP 11000 | PHASE train | ACTION 0 | REWARD 0.1 | LOSS 0.04050962254405022\n",
      "STEP 11500 | PHASE train | ACTION 0 | REWARD 0.1 | LOSS 0.13017871975898743\n",
      "STEP 12000 | PHASE train | ACTION 0 | REWARD 0.1 | LOSS 0.017553366720676422\n",
      "STEP 12500 | PHASE train | ACTION 0 | REWARD 0.1 | LOSS 0.028895070776343346\n",
      "STEP 13000 | PHASE train | ACTION 1 | REWARD 0.1 | LOSS 0.10522431135177612\n",
      "STEP 13500 | PHASE train | ACTION 0 | REWARD 0.1 | LOSS 0.10664823651313782\n",
      "STEP 14000 | PHASE train | ACTION 0 | REWARD 0.1 | LOSS 0.06327357143163681\n",
      "STEP 14500 | PHASE train | ACTION 1 | REWARD 0.1 | LOSS 0.08088968694210052\n",
      "STEP 15000 | PHASE train | ACTION 0 | REWARD 0.1 | LOSS 0.0547637939453125\n",
      "STEP 15500 | PHASE train | ACTION 0 | REWARD 0.1 | LOSS 0.08039796352386475\n",
      "STEP 16000 | PHASE train | ACTION 0 | REWARD 0.1 | LOSS 0.10816794633865356\n",
      "STEP 16500 | PHASE train | ACTION 0 | REWARD 0.1 | LOSS 0.17359676957130432\n",
      "STEP 17000 | PHASE train | ACTION 0 | REWARD 0.1 | LOSS 0.2759324610233307\n",
      "STEP 17500 | PHASE train | ACTION 0 | REWARD 0.1 | LOSS 0.11637525260448456\n",
      "STEP 18000 | PHASE train | ACTION 0 | REWARD 0.1 | LOSS 0.19080916047096252\n",
      "STEP 18500 | PHASE train | ACTION 0 | REWARD 0.1 | LOSS 0.3765735626220703\n",
      "STEP 19000 | PHASE train | ACTION 0 | REWARD 0.1 | LOSS 0.08709901571273804\n",
      "STEP 19500 | PHASE train | ACTION 0 | REWARD 0.1 | LOSS 0.3480122983455658\n",
      "STEP 20000 | PHASE train | ACTION 0 | REWARD 0.1 | LOSS 0.17152786254882812\n",
      "STEP 20500 | PHASE train | ACTION 0 | REWARD 0.1 | LOSS 0.15766867995262146\n",
      "STEP 21000 | PHASE train | ACTION 0 | REWARD 0.1 | LOSS 0.4353175163269043\n",
      "STEP 21500 | PHASE train | ACTION 0 | REWARD 0.1 | LOSS 0.23572348058223724\n",
      "STEP 22000 | PHASE train | ACTION 0 | REWARD 0.1 | LOSS 0.24242699146270752\n",
      "STEP 22500 | PHASE train | ACTION 0 | REWARD 0.1 | LOSS 0.3036676049232483\n",
      "STEP 23000 | PHASE train | ACTION 0 | REWARD 0.1 | LOSS 0.15988580882549286\n",
      "STEP 23500 | PHASE train | ACTION 0 | REWARD 0.1 | LOSS 0.25992703437805176\n",
      "STEP 24000 | PHASE train | ACTION 0 | REWARD 0.1 | LOSS 0.20286859571933746\n",
      "STEP 24500 | PHASE train | ACTION 0 | REWARD 0.1 | LOSS 0.30782729387283325\n",
      "STEP 25000 | PHASE train | ACTION 0 | REWARD 0.1 | LOSS 0.1250855028629303\n",
      "STEP 25500 | PHASE train | ACTION 1 | REWARD 0.1 | LOSS 0.15230408310890198\n",
      "STEP 26000 | PHASE train | ACTION 0 | REWARD 0.1 | LOSS 0.23871612548828125\n",
      "STEP 26500 | PHASE train | ACTION 0 | REWARD 0.1 | LOSS 1.499967336654663\n",
      "STEP 27000 | PHASE train | ACTION 0 | REWARD 0.1 | LOSS 2.134018898010254\n",
      "STEP 27500 | PHASE train | ACTION 0 | REWARD 0.1 | LOSS 0.2699841558933258\n",
      "STEP 28000 | PHASE train | ACTION 0 | REWARD 0.1 | LOSS 0.37060466408729553\n",
      "STEP 28500 | PHASE train | ACTION 0 | REWARD 0.1 | LOSS 0.12460704147815704\n",
      "STEP 29000 | PHASE train | ACTION 0 | REWARD 0.1 | LOSS 0.4257110357284546\n",
      "STEP 29500 | PHASE train | ACTION 0 | REWARD 0.1 | LOSS 0.16329094767570496\n",
      "STEP 30000 | PHASE train | ACTION 1 | REWARD 0.1 | LOSS 0.4677806496620178\n",
      "STEP 30500 | PHASE train | ACTION 0 | REWARD -1 | LOSS 0.13330888748168945\n",
      "STEP 31000 | PHASE train | ACTION 0 | REWARD 0.1 | LOSS 0.19962634146213531\n",
      "STEP 31500 | PHASE train | ACTION 0 | REWARD 0.1 | LOSS 0.8187220096588135\n",
      "STEP 32000 | PHASE train | ACTION 1 | REWARD 0.1 | LOSS 0.1913384050130844\n",
      "STEP 32500 | PHASE train | ACTION 0 | REWARD 0.1 | LOSS 0.13231754302978516\n",
      "STEP 33000 | PHASE train | ACTION 0 | REWARD 0.1 | LOSS 0.13271605968475342\n",
      "STEP 33500 | PHASE train | ACTION 0 | REWARD 0.1 | LOSS 0.2190379649400711\n",
      "STEP 34000 | PHASE train | ACTION 1 | REWARD 0.1 | LOSS 0.5211819410324097\n",
      "STEP 34500 | PHASE train | ACTION 0 | REWARD 0.1 | LOSS 0.30209922790527344\n",
      "STEP 35000 | PHASE train | ACTION 1 | REWARD 0.1 | LOSS 0.35963940620422363\n",
      "STEP 35500 | PHASE train | ACTION 0 | REWARD 0.1 | LOSS 0.08964992314577103\n",
      "STEP 36000 | PHASE train | ACTION 0 | REWARD 0.1 | LOSS 0.132878839969635\n",
      "STEP 36500 | PHASE train | ACTION 0 | REWARD 0.1 | LOSS 0.1789495348930359\n",
      "STEP 37000 | PHASE train | ACTION 0 | REWARD 0.1 | LOSS 0.4847419857978821\n",
      "STEP 37500 | PHASE train | ACTION 0 | REWARD 0.1 | LOSS 0.21758227050304413\n",
      "STEP 38000 | PHASE train | ACTION 0 | REWARD 0.1 | LOSS 0.26316672563552856\n",
      "STEP 38500 | PHASE train | ACTION 1 | REWARD 0.1 | LOSS 0.1885192096233368\n",
      "STEP 39000 | PHASE train | ACTION 1 | REWARD 0.1 | LOSS 0.20601022243499756\n",
      "STEP 39500 | PHASE train | ACTION 0 | REWARD 0.1 | LOSS 0.1006239801645279\n",
      "STEP 40000 | PHASE train | ACTION 1 | REWARD 0.1 | LOSS 0.5038958787918091\n",
      "STEP 40500 | PHASE train | ACTION 0 | REWARD 0.1 | LOSS 2.397826671600342\n",
      "STEP 41000 | PHASE train | ACTION 0 | REWARD 0.1 | LOSS 0.3408889174461365\n",
      "STEP 41500 | PHASE train | ACTION 1 | REWARD 0.1 | LOSS 0.10423536598682404\n",
      "STEP 42000 | PHASE train | ACTION 0 | REWARD 0.1 | LOSS 0.25089210271835327\n",
      "STEP 42500 | PHASE train | ACTION 0 | REWARD 0.1 | LOSS 0.15588709712028503\n",
      "STEP 43000 | PHASE train | ACTION 0 | REWARD 0.1 | LOSS 0.28275614976882935\n",
      "STEP 43500 | PHASE train | ACTION 0 | REWARD 0.1 | LOSS 0.970893383026123\n",
      "STEP 44000 | PHASE train | ACTION 0 | REWARD 0.1 | LOSS 0.8458482027053833\n",
      "STEP 44500 | PHASE train | ACTION 0 | REWARD 0.1 | LOSS 0.23550169169902802\n",
      "STEP 45000 | PHASE train | ACTION 0 | REWARD 0.1 | LOSS 0.12022347003221512\n",
      "STEP 45500 | PHASE train | ACTION 0 | REWARD 0.1 | LOSS 0.5856949090957642\n",
      "STEP 46000 | PHASE train | ACTION 0 | REWARD 0.1 | LOSS 0.1585310399532318\n",
      "STEP 46500 | PHASE train | ACTION 0 | REWARD 1 | LOSS 0.21348625421524048\n",
      "STEP 47000 | PHASE train | ACTION 0 | REWARD 0.1 | LOSS 0.33588361740112305\n",
      "STEP 47500 | PHASE train | ACTION 0 | REWARD 0.1 | LOSS 0.18248350918293\n",
      "STEP 48000 | PHASE train | ACTION 0 | REWARD 0.1 | LOSS 6.471296787261963\n",
      "STEP 48500 | PHASE train | ACTION 1 | REWARD 0.1 | LOSS 0.15629267692565918\n",
      "STEP 49000 | PHASE train | ACTION 0 | REWARD 0.1 | LOSS 0.23685981333255768\n",
      "STEP 49500 | PHASE train | ACTION 0 | REWARD 0.1 | LOSS 0.10625089704990387\n",
      "STEP 50000 | PHASE train | ACTION 0 | REWARD 0.1 | LOSS 0.1839979887008667\n"
     ]
    }
   ],
   "source": [
    "observe = 100            # timesteps to observe before training\n",
    "playgame()"
   ]
  },
  {
   "cell_type": "markdown",
   "metadata": {},
   "source": [
    "### This had a similar performance near the final steps but showed much quicker training and much faster improvement. Bird passed first pipe at step 10000 and played near perfectly by 50000"
   ]
  },
  {
   "cell_type": "code",
   "execution_count": null,
   "metadata": {},
   "outputs": [],
   "source": []
  }
 ],
 "metadata": {
  "kernelspec": {
   "display_name": "Python 3 (ipykernel)",
   "language": "python",
   "name": "python3"
  },
  "language_info": {
   "codemirror_mode": {
    "name": "ipython",
    "version": 3
   },
   "file_extension": ".py",
   "mimetype": "text/x-python",
   "name": "python",
   "nbconvert_exporter": "python",
   "pygments_lexer": "ipython3",
   "version": "3.11.5"
  }
 },
 "nbformat": 4,
 "nbformat_minor": 4
}
